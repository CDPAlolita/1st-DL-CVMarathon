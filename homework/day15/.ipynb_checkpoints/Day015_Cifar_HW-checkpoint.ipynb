{
 "cells": [
  {
   "cell_type": "markdown",
   "metadata": {},
   "source": [
    "## 『本次練習內容』\n",
    "#### 運用這幾天所學觀念搭建一個CNN分類器"
   ]
  },
  {
   "cell_type": "markdown",
   "metadata": {},
   "source": [
    "## 『本次練習目的』\n",
    "  #### 熟悉CNN分類器搭建步驟與原理\n",
    "  #### 學員們可以嘗試不同搭法，如使用不同的Maxpooling層，用GlobalAveragePooling取代Flatten等等"
   ]
  },
  {
   "cell_type": "code",
   "execution_count": 1,
   "metadata": {},
   "outputs": [
    {
     "name": "stderr",
     "output_type": "stream",
     "text": [
      "Using TensorFlow backend.\n"
     ]
    }
   ],
   "source": [
    "from keras.models import Sequential\n",
    "from keras.layers import Convolution2D\n",
    "from keras.layers import MaxPooling2D\n",
    "from keras.layers import Flatten\n",
    "from keras.layers import Dense\n",
    "from keras.layers import Dropout\n",
    "from keras.layers import BatchNormalization\n",
    "from keras.datasets import cifar10\n",
    "import numpy as np\n",
    "import tensorflow as tf\n",
    "from sklearn.preprocessing import OneHotEncoder\n"
   ]
  },
  {
   "cell_type": "code",
   "execution_count": 2,
   "metadata": {},
   "outputs": [
    {
     "name": "stdout",
     "output_type": "stream",
     "text": [
      "(50000, 32, 32, 3)\n"
     ]
    }
   ],
   "source": [
    "(x_train, y_train), (x_test, y_test) = cifar10.load_data()\n",
    "\n",
    "print(x_train.shape) #(50000, 32, 32, 3)\n",
    "\n",
    "## Normalize Data\n",
    "def normalize(X_train,X_test):\n",
    "        mean = np.mean(X_train,axis=(0,1,2,3))\n",
    "        std = np.std(X_train, axis=(0, 1, 2, 3))\n",
    "        X_train = (X_train-mean)/(std+1e-7)\n",
    "        X_test = (X_test-mean)/(std+1e-7) \n",
    "        return X_train, X_test,mean,std\n",
    "    \n",
    "    \n",
    "## Normalize Training and Testset    \n",
    "x_train, x_test,mean_train,std_train = normalize(x_train, x_test) "
   ]
  },
  {
   "cell_type": "code",
   "execution_count": 3,
   "metadata": {},
   "outputs": [
    {
     "name": "stderr",
     "output_type": "stream",
     "text": [
      "C:\\Users\\4D212\\Anaconda3\\envs\\dlm\\lib\\site-packages\\sklearn\\preprocessing\\_encoders.py:415: FutureWarning: The handling of integer data will change in version 0.22. Currently, the categories are determined based on the range [0, max(values)], while in the future they will be determined based on the unique values.\n",
      "If you want the future behaviour and silence this warning, you can specify \"categories='auto'\".\n",
      "In case you used a LabelEncoder before this OneHotEncoder to convert the categories to integers, then you can now use the OneHotEncoder directly.\n",
      "  warnings.warn(msg, FutureWarning)\n"
     ]
    }
   ],
   "source": [
    "## OneHot Label 由(None, 1)-(None, 10)\n",
    "## ex. label=2,變成[0,0,1,0,0,0,0,0,0,0]\n",
    "one_hot=OneHotEncoder()\n",
    "y_train=one_hot.fit_transform(y_train).toarray()\n",
    "y_test=one_hot.transform(y_test).toarray()"
   ]
  },
  {
   "cell_type": "code",
   "execution_count": 4,
   "metadata": {},
   "outputs": [
    {
     "name": "stdout",
     "output_type": "stream",
     "text": [
      "WARNING:tensorflow:From C:\\Users\\4D212\\Anaconda3\\envs\\dlm\\lib\\site-packages\\keras\\backend\\tensorflow_backend.py:74: The name tf.get_default_graph is deprecated. Please use tf.compat.v1.get_default_graph instead.\n",
      "\n",
      "WARNING:tensorflow:From C:\\Users\\4D212\\Anaconda3\\envs\\dlm\\lib\\site-packages\\keras\\backend\\tensorflow_backend.py:517: The name tf.placeholder is deprecated. Please use tf.compat.v1.placeholder instead.\n",
      "\n",
      "WARNING:tensorflow:From C:\\Users\\4D212\\Anaconda3\\envs\\dlm\\lib\\site-packages\\keras\\backend\\tensorflow_backend.py:4138: The name tf.random_uniform is deprecated. Please use tf.random.uniform instead.\n",
      "\n",
      "WARNING:tensorflow:From C:\\Users\\4D212\\Anaconda3\\envs\\dlm\\lib\\site-packages\\keras\\backend\\tensorflow_backend.py:174: The name tf.get_default_session is deprecated. Please use tf.compat.v1.get_default_session instead.\n",
      "\n",
      "WARNING:tensorflow:From C:\\Users\\4D212\\Anaconda3\\envs\\dlm\\lib\\site-packages\\keras\\backend\\tensorflow_backend.py:181: The name tf.ConfigProto is deprecated. Please use tf.compat.v1.ConfigProto instead.\n",
      "\n",
      "WARNING:tensorflow:From C:\\Users\\4D212\\Anaconda3\\envs\\dlm\\lib\\site-packages\\keras\\backend\\tensorflow_backend.py:186: The name tf.Session is deprecated. Please use tf.compat.v1.Session instead.\n",
      "\n",
      "WARNING:tensorflow:From C:\\Users\\4D212\\Anaconda3\\envs\\dlm\\lib\\site-packages\\keras\\backend\\tensorflow_backend.py:190: The name tf.global_variables is deprecated. Please use tf.compat.v1.global_variables instead.\n",
      "\n",
      "WARNING:tensorflow:From C:\\Users\\4D212\\Anaconda3\\envs\\dlm\\lib\\site-packages\\keras\\backend\\tensorflow_backend.py:199: The name tf.is_variable_initialized is deprecated. Please use tf.compat.v1.is_variable_initialized instead.\n",
      "\n",
      "WARNING:tensorflow:From C:\\Users\\4D212\\Anaconda3\\envs\\dlm\\lib\\site-packages\\keras\\backend\\tensorflow_backend.py:206: The name tf.variables_initializer is deprecated. Please use tf.compat.v1.variables_initializer instead.\n",
      "\n",
      "WARNING:tensorflow:From C:\\Users\\4D212\\Anaconda3\\envs\\dlm\\lib\\site-packages\\keras\\backend\\tensorflow_backend.py:1834: The name tf.nn.fused_batch_norm is deprecated. Please use tf.compat.v1.nn.fused_batch_norm instead.\n",
      "\n",
      "WARNING:tensorflow:From C:\\Users\\4D212\\Anaconda3\\envs\\dlm\\lib\\site-packages\\keras\\backend\\tensorflow_backend.py:133: The name tf.placeholder_with_default is deprecated. Please use tf.compat.v1.placeholder_with_default instead.\n",
      "\n",
      "WARNING:tensorflow:From C:\\Users\\4D212\\Anaconda3\\envs\\dlm\\lib\\site-packages\\keras\\backend\\tensorflow_backend.py:3976: The name tf.nn.max_pool is deprecated. Please use tf.nn.max_pool2d instead.\n",
      "\n",
      "WARNING:tensorflow:From C:\\Users\\4D212\\Anaconda3\\envs\\dlm\\lib\\site-packages\\keras\\optimizers.py:790: The name tf.train.Optimizer is deprecated. Please use tf.compat.v1.train.Optimizer instead.\n",
      "\n",
      "WARNING:tensorflow:From C:\\Users\\4D212\\Anaconda3\\envs\\dlm\\lib\\site-packages\\keras\\backend\\tensorflow_backend.py:3295: The name tf.log is deprecated. Please use tf.math.log instead.\n",
      "\n",
      "WARNING:tensorflow:From C:\\Users\\4D212\\Anaconda3\\envs\\dlm\\lib\\site-packages\\tensorflow_core\\python\\ops\\math_grad.py:1424: where (from tensorflow.python.ops.array_ops) is deprecated and will be removed in a future version.\n",
      "Instructions for updating:\n",
      "Use tf.where in 2.0, which has the same broadcast rule as np.where\n"
     ]
    },
    {
     "name": "stderr",
     "output_type": "stream",
     "text": [
      "C:\\Users\\4D212\\Anaconda3\\envs\\dlm\\lib\\site-packages\\ipykernel_launcher.py:18: UserWarning: Update your `Dense` call to the Keras 2 API: `Dense(activation=\"relu\", units=100)`\n",
      "C:\\Users\\4D212\\Anaconda3\\envs\\dlm\\lib\\site-packages\\ipykernel_launcher.py:21: UserWarning: Update your `Dense` call to the Keras 2 API: `Dense(activation=\"sigmoid\", units=10)`\n"
     ]
    },
    {
     "name": "stdout",
     "output_type": "stream",
     "text": [
      "WARNING:tensorflow:From C:\\Users\\4D212\\Anaconda3\\envs\\dlm\\lib\\site-packages\\keras\\backend\\tensorflow_backend.py:986: The name tf.assign_add is deprecated. Please use tf.compat.v1.assign_add instead.\n",
      "\n",
      "WARNING:tensorflow:From C:\\Users\\4D212\\Anaconda3\\envs\\dlm\\lib\\site-packages\\keras\\backend\\tensorflow_backend.py:973: The name tf.assign is deprecated. Please use tf.compat.v1.assign instead.\n",
      "\n",
      "Epoch 1/100\n",
      "50000/50000 [==============================] - 30s 609us/step - loss: 1.3946 - acc: 0.5233\n",
      "Epoch 2/100\n",
      "50000/50000 [==============================] - 28s 560us/step - loss: 0.8710 - acc: 0.6919\n",
      "Epoch 3/100\n",
      "50000/50000 [==============================] - 29s 573us/step - loss: 0.6182 - acc: 0.7752\n",
      "Epoch 4/100\n",
      "50000/50000 [==============================] - 29s 580us/step - loss: 0.4446 - acc: 0.8383\n",
      "Epoch 5/100\n",
      "50000/50000 [==============================] - 29s 587us/step - loss: 0.3076 - acc: 0.8892\n",
      "Epoch 6/100\n",
      "50000/50000 [==============================] - 29s 587us/step - loss: 0.2176 - acc: 0.9225\n",
      "Epoch 7/100\n",
      "50000/50000 [==============================] - 31s 615us/step - loss: 0.1542 - acc: 0.9461\n",
      "Epoch 8/100\n",
      "50000/50000 [==============================] - 31s 623us/step - loss: 0.1327 - acc: 0.9540\n",
      "Epoch 9/100\n",
      "50000/50000 [==============================] - 30s 592us/step - loss: nan - acc: 0.3371\n",
      "Epoch 10/100\n",
      "50000/50000 [==============================] - 29s 589us/step - loss: nan - acc: 0.1000\n",
      "Epoch 11/100\n",
      "50000/50000 [==============================] - 30s 592us/step - loss: nan - acc: 0.1000\n",
      "Epoch 12/100\n",
      "50000/50000 [==============================] - 30s 592us/step - loss: nan - acc: 0.1000\n",
      "Epoch 13/100\n",
      "50000/50000 [==============================] - 29s 590us/step - loss: nan - acc: 0.1000\n",
      "Epoch 14/100\n",
      "50000/50000 [==============================] - 29s 588us/step - loss: nan - acc: 0.1000\n",
      "Epoch 15/100\n",
      "50000/50000 [==============================] - 29s 584us/step - loss: nan - acc: 0.1000\n",
      "Epoch 16/100\n",
      "50000/50000 [==============================] - 30s 595us/step - loss: nan - acc: 0.1000\n",
      "Epoch 17/100\n",
      "50000/50000 [==============================] - 31s 626us/step - loss: nan - acc: 0.1000\n",
      "Epoch 18/100\n",
      "50000/50000 [==============================] - 32s 630us/step - loss: nan - acc: 0.1000\n",
      "Epoch 19/100\n",
      "50000/50000 [==============================] - 30s 594us/step - loss: nan - acc: 0.1000s - loss: nan - acc: \n",
      "Epoch 20/100\n",
      "50000/50000 [==============================] - 31s 629us/step - loss: nan - acc: 0.1000\n",
      "Epoch 21/100\n",
      "50000/50000 [==============================] - 30s 597us/step - loss: nan - acc: 0.1000\n",
      "Epoch 22/100\n",
      "50000/50000 [==============================] - 30s 593us/step - loss: nan - acc: 0.1000\n",
      "Epoch 23/100\n",
      "50000/50000 [==============================] - 30s 593us/step - loss: nan - acc: 0.1000\n",
      "Epoch 24/100\n",
      "50000/50000 [==============================] - 30s 593us/step - loss: nan - acc: 0.1000\n",
      "Epoch 25/100\n",
      "50000/50000 [==============================] - 29s 582us/step - loss: nan - acc: 0.1000\n",
      "Epoch 26/100\n",
      "50000/50000 [==============================] - 29s 584us/step - loss: nan - acc: 0.1000\n",
      "Epoch 27/100\n",
      "50000/50000 [==============================] - 29s 580us/step - loss: nan - acc: 0.1000\n",
      "Epoch 28/100\n",
      "50000/50000 [==============================] - 29s 580us/step - loss: nan - acc: 0.1000\n",
      "Epoch 29/100\n",
      "50000/50000 [==============================] - 29s 584us/step - loss: nan - acc: 0.1000\n",
      "Epoch 30/100\n",
      "50000/50000 [==============================] - 29s 580us/step - loss: nan - acc: 0.1000\n",
      "Epoch 31/100\n",
      "50000/50000 [==============================] - 29s 582us/step - loss: nan - acc: 0.1000\n",
      "Epoch 32/100\n",
      "50000/50000 [==============================] - 29s 583us/step - loss: nan - acc: 0.1000\n",
      "Epoch 33/100\n",
      "50000/50000 [==============================] - 29s 583us/step - loss: nan - acc: 0.1000\n",
      "Epoch 34/100\n",
      "50000/50000 [==============================] - 29s 584us/step - loss: nan - acc: 0.1000\n",
      "Epoch 35/100\n",
      "50000/50000 [==============================] - 29s 575us/step - loss: nan - acc: 0.1000\n",
      "Epoch 36/100\n",
      "50000/50000 [==============================] - 28s 554us/step - loss: nan - acc: 0.1000\n",
      "Epoch 37/100\n",
      "50000/50000 [==============================] - 29s 580us/step - loss: nan - acc: 0.1000\n",
      "Epoch 38/100\n",
      "50000/50000 [==============================] - 29s 586us/step - loss: nan - acc: 0.1000\n",
      "Epoch 39/100\n",
      "50000/50000 [==============================] - 29s 578us/step - loss: nan - acc: 0.1000\n",
      "Epoch 40/100\n",
      "50000/50000 [==============================] - 29s 583us/step - loss: nan - acc: 0.1000\n",
      "Epoch 41/100\n",
      "50000/50000 [==============================] - 29s 583us/step - loss: nan - acc: 0.1000\n",
      "Epoch 42/100\n",
      "50000/50000 [==============================] - 30s 590us/step - loss: nan - acc: 0.1000\n",
      "Epoch 43/100\n",
      "50000/50000 [==============================] - 31s 622us/step - loss: nan - acc: 0.1000\n",
      "Epoch 44/100\n",
      "50000/50000 [==============================] - 32s 642us/step - loss: nan - acc: 0.1000\n",
      "Epoch 45/100\n",
      "50000/50000 [==============================] - 30s 609us/step - loss: nan - acc: 0.1000\n",
      "Epoch 46/100\n",
      "50000/50000 [==============================] - 30s 603us/step - loss: nan - acc: 0.1000\n",
      "Epoch 47/100\n",
      "50000/50000 [==============================] - 30s 600us/step - loss: nan - acc: 0.1000\n",
      "Epoch 48/100\n",
      "50000/50000 [==============================] - 30s 598us/step - loss: nan - acc: 0.1000\n",
      "Epoch 49/100\n",
      "50000/50000 [==============================] - 29s 582us/step - loss: nan - acc: 0.1000\n",
      "Epoch 50/100\n",
      "50000/50000 [==============================] - 29s 579us/step - loss: nan - acc: 0.1000\n",
      "Epoch 51/100\n",
      "50000/50000 [==============================] - 29s 582us/step - loss: nan - acc: 0.1000\n",
      "Epoch 52/100\n",
      "50000/50000 [==============================] - 29s 585us/step - loss: nan - acc: 0.1000\n",
      "Epoch 53/100\n",
      "50000/50000 [==============================] - 29s 581us/step - loss: nan - acc: 0.1000\n",
      "Epoch 54/100\n",
      "50000/50000 [==============================] - 29s 583us/step - loss: nan - acc: 0.1000\n",
      "Epoch 55/100\n",
      "50000/50000 [==============================] - 29s 584us/step - loss: nan - acc: 0.1000\n",
      "Epoch 56/100\n",
      "50000/50000 [==============================] - 29s 578us/step - loss: nan - acc: 0.1000\n",
      "Epoch 57/100\n",
      "50000/50000 [==============================] - 29s 583us/step - loss: nan - acc: 0.1000\n",
      "Epoch 58/100\n",
      "50000/50000 [==============================] - 29s 584us/step - loss: nan - acc: 0.1000\n",
      "Epoch 59/100\n",
      "50000/50000 [==============================] - 29s 581us/step - loss: nan - acc: 0.1000\n",
      "Epoch 60/100\n",
      "50000/50000 [==============================] - 30s 591us/step - loss: nan - acc: 0.1000\n",
      "Epoch 61/100\n",
      "50000/50000 [==============================] - 29s 580us/step - loss: nan - acc: 0.1000\n",
      "Epoch 62/100\n",
      "50000/50000 [==============================] - 30s 607us/step - loss: nan - acc: 0.1000\n",
      "Epoch 63/100\n",
      "50000/50000 [==============================] - 30s 591us/step - loss: nan - acc: 0.1000\n",
      "Epoch 64/100\n",
      "50000/50000 [==============================] - 29s 578us/step - loss: nan - acc: 0.1000\n",
      "Epoch 65/100\n",
      "50000/50000 [==============================] - 29s 578us/step - loss: nan - acc: 0.1000\n",
      "Epoch 66/100\n",
      "50000/50000 [==============================] - 29s 583us/step - loss: nan - acc: 0.1000\n",
      "Epoch 67/100\n",
      "50000/50000 [==============================] - 29s 584us/step - loss: nan - acc: 0.1000\n",
      "Epoch 68/100\n",
      "50000/50000 [==============================] - 29s 575us/step - loss: nan - acc: 0.1000\n",
      "Epoch 69/100\n",
      "50000/50000 [==============================] - 29s 585us/step - loss: nan - acc: 0.1000\n",
      "Epoch 70/100\n",
      "50000/50000 [==============================] - 29s 582us/step - loss: nan - acc: 0.1000\n",
      "Epoch 71/100\n",
      "50000/50000 [==============================] - 29s 578us/step - loss: nan - acc: 0.1000\n",
      "Epoch 72/100\n",
      "50000/50000 [==============================] - 29s 582us/step - loss: nan - acc: 0.1000\n",
      "Epoch 73/100\n",
      "50000/50000 [==============================] - 29s 590us/step - loss: nan - acc: 0.1000\n",
      "Epoch 74/100\n",
      "50000/50000 [==============================] - 28s 565us/step - loss: nan - acc: 0.1000\n",
      "Epoch 75/100\n",
      "50000/50000 [==============================] - 28s 564us/step - loss: nan - acc: 0.1000\n",
      "Epoch 76/100\n",
      "50000/50000 [==============================] - 28s 561us/step - loss: nan - acc: 0.1000\n",
      "Epoch 77/100\n"
     ]
    },
    {
     "name": "stdout",
     "output_type": "stream",
     "text": [
      "50000/50000 [==============================] - 29s 586us/step - loss: nan - acc: 0.1000\n",
      "Epoch 78/100\n",
      "50000/50000 [==============================] - 29s 574us/step - loss: nan - acc: 0.1000\n",
      "Epoch 79/100\n",
      "50000/50000 [==============================] - 28s 560us/step - loss: nan - acc: 0.1000\n",
      "Epoch 80/100\n",
      "50000/50000 [==============================] - 29s 574us/step - loss: nan - acc: 0.1000\n",
      "Epoch 81/100\n",
      "50000/50000 [==============================] - 28s 570us/step - loss: nan - acc: 0.1000\n",
      "Epoch 82/100\n",
      "50000/50000 [==============================] - 28s 566us/step - loss: nan - acc: 0.1000\n",
      "Epoch 83/100\n",
      "50000/50000 [==============================] - 29s 584us/step - loss: nan - acc: 0.1000\n",
      "Epoch 84/100\n",
      "50000/50000 [==============================] - 29s 585us/step - loss: nan - acc: 0.1000\n",
      "Epoch 85/100\n",
      "50000/50000 [==============================] - 29s 582us/step - loss: nan - acc: 0.1000\n",
      "Epoch 86/100\n",
      "50000/50000 [==============================] - 29s 582us/step - loss: nan - acc: 0.1000\n",
      "Epoch 87/100\n",
      "50000/50000 [==============================] - 29s 579us/step - loss: nan - acc: 0.1000\n",
      "Epoch 88/100\n",
      "50000/50000 [==============================] - 29s 584us/step - loss: nan - acc: 0.1000\n",
      "Epoch 89/100\n",
      "50000/50000 [==============================] - 29s 582us/step - loss: nan - acc: 0.1000\n",
      "Epoch 90/100\n",
      "50000/50000 [==============================] - 29s 577us/step - loss: nan - acc: 0.1000\n",
      "Epoch 91/100\n",
      "50000/50000 [==============================] - 29s 578us/step - loss: nan - acc: 0.1000\n",
      "Epoch 92/100\n",
      "50000/50000 [==============================] - 29s 581us/step - loss: nan - acc: 0.1000\n",
      "Epoch 93/100\n",
      "50000/50000 [==============================] - 29s 578us/step - loss: nan - acc: 0.1000\n",
      "Epoch 94/100\n",
      "50000/50000 [==============================] - 29s 585us/step - loss: nan - acc: 0.1000\n",
      "Epoch 95/100\n",
      "50000/50000 [==============================] - 30s 594us/step - loss: nan - acc: 0.1000\n",
      "Epoch 96/100\n",
      "50000/50000 [==============================] - 30s 601us/step - loss: nan - acc: 0.1000\n",
      "Epoch 97/100\n",
      "50000/50000 [==============================] - 29s 582us/step - loss: nan - acc: 0.1000\n",
      "Epoch 98/100\n",
      "50000/50000 [==============================] - 30s 596us/step - loss: nan - acc: 0.1000\n",
      "Epoch 99/100\n",
      "50000/50000 [==============================] - 33s 660us/step - loss: nan - acc: 0.1000\n",
      "Epoch 100/100\n",
      "50000/50000 [==============================] - 32s 637us/step - loss: nan - acc: 0.1000\n"
     ]
    },
    {
     "data": {
      "text/plain": [
       "<keras.callbacks.History at 0x1e239dba550>"
      ]
     },
     "execution_count": 4,
     "metadata": {},
     "output_type": "execute_result"
    }
   ],
   "source": [
    "\n",
    "classifier=Sequential()\n",
    "\n",
    "#卷積組合\n",
    "classifier.add(Convolution2D(filters=32, kernel_size=(3,3), input_shape=(32,32,3),activation='relu'))#32,3,3,input_shape=(32,32,3),activation='relu''\n",
    "classifier.add(BatchNormalization())\n",
    "\n",
    "'''自己決定MaxPooling2D放在哪裡'''\n",
    "classifier.add(MaxPooling2D(pool_size=(2,2)))\n",
    "\n",
    "#卷積組合\n",
    "classifier.add(Convolution2D(filters=32, kernel_size=(3,3), input_shape=(32,32,3),activation='relu'))\n",
    "classifier.add(BatchNormalization())\n",
    "\n",
    "#flatten\n",
    "classifier.add(Flatten())\n",
    "\n",
    "#FC\n",
    "classifier.add(Dense(output_dim=100,activation='relu')) #output_dim=100,activation=relu\n",
    "\n",
    "#輸出\n",
    "classifier.add(Dense(output_dim=10,activation='sigmoid'))\n",
    "\n",
    "#超過兩個就要選categorical_crossentrophy\n",
    "classifier.compile(optimizer = 'adam', loss = 'categorical_crossentropy', metrics = ['accuracy'])\n",
    "classifier.fit(x_train,y_train,batch_size=100,epochs=100)"
   ]
  },
  {
   "cell_type": "markdown",
   "metadata": {},
   "source": [
    "## 預測新圖片，輸入影像前處理要與訓練時相同\n",
    "#### ((X-mean)/(std+1e-7) ):這裡的mean跟std是訓練集的\n",
    "## 維度如下方示範"
   ]
  },
  {
   "cell_type": "code",
   "execution_count": 5,
   "metadata": {},
   "outputs": [
    {
     "data": {
      "text/plain": [
       "array([[nan, nan, nan, nan, nan, nan, nan, nan, nan, nan]], dtype=float32)"
      ]
     },
     "execution_count": 5,
     "metadata": {},
     "output_type": "execute_result"
    }
   ],
   "source": [
    "input_example=(np.zeros(shape=(1,32,32,3))-mean_train)/(std_train+1e-7) \n",
    "classifier.predict(input_example)"
   ]
  },
  {
   "cell_type": "code",
   "execution_count": null,
   "metadata": {},
   "outputs": [],
   "source": []
  }
 ],
 "metadata": {
  "kernelspec": {
   "display_name": "Python 3",
   "language": "python",
   "name": "python3"
  },
  "language_info": {
   "codemirror_mode": {
    "name": "ipython",
    "version": 3
   },
   "file_extension": ".py",
   "mimetype": "text/x-python",
   "name": "python",
   "nbconvert_exporter": "python",
   "pygments_lexer": "ipython3",
   "version": "3.6.9"
  }
 },
 "nbformat": 4,
 "nbformat_minor": 2
}
