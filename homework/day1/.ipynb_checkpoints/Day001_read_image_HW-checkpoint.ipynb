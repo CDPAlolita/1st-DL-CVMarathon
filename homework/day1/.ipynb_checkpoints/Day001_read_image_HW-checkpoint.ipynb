{
 "cells": [
  {
   "cell_type": "markdown",
   "metadata": {},
   "source": [
    "# 作業\n",
    "\n",
    "思考一下我們前面有提到圖片是矩陣，但維度可能會不一樣\n",
    "例如灰階圖只有兩個維度，RGB 彩圖則有 3 個維度\n",
    "\n",
    "假如今天我們把 RGB 3 個維度拆開來看會有甚麼不同的效果呢？"
   ]
  },
  {
   "cell_type": "code",
   "execution_count": 9,
   "metadata": {},
   "outputs": [],
   "source": [
    "import cv2\n",
    "\n",
    "img_path = 'data/lena.png'\n",
    "\n",
    "# 以彩色圖片的方式載入\n",
    "img = cv2.imread(img_path, cv2.IMREAD_COLOR)\n",
    "\n",
    "#把RGB 3個維度拆開 得到他們的亮度\n",
    "img_LB = img[:,:,0]\n",
    "img_LG = img[:,:,1]\n",
    "img_LR = img[:,:,2]\n",
    "\n",
    "#創建全黑的底圖\n",
    "img_B = img * 0\n",
    "img_G = img * 0\n",
    "img_R = img * 0\n",
    "\n",
    "#把亮度疊上去 得到彩色圖片\n",
    "img_B[:,:,0] = img_LB\n",
    "img_G[:,:,1] = img_LG\n",
    "img_R[:,:,2] = img_LR"
   ]
  },
  {
   "cell_type": "code",
   "execution_count": 10,
   "metadata": {},
   "outputs": [],
   "source": [
    "# 為了要不斷顯示圖片，所以使用一個迴圈\n",
    "while True:\n",
    "    # 顯示彩圖\n",
    "    cv2.imshow('bgr', img)\n",
    "    \n",
    "    # 顯示RGB亮度\n",
    "    cv2.imshow('LB', img_LB)\n",
    "    cv2.imshow('LG', img_LG)\n",
    "    cv2.imshow('LR', img_LR)\n",
    "    \n",
    "    # 顯示RGB分離的圖\n",
    "    cv2.imshow('B', img_B)\n",
    "    cv2.imshow('G', img_G)\n",
    "    cv2.imshow('R', img_R)\n",
    "    \n",
    "    # 直到按下 ESC 鍵才會自動關閉視窗結束程式\n",
    "    k = cv2.waitKey(0)\n",
    "    if k == 27:\n",
    "        cv2.destroyAllWindows()\n",
    "        break"
   ]
  },
  {
   "cell_type": "code",
   "execution_count": null,
   "metadata": {},
   "outputs": [],
   "source": []
  }
 ],
 "metadata": {
  "kernelspec": {
   "display_name": "Python 3",
   "language": "python",
   "name": "python3"
  },
  "language_info": {
   "codemirror_mode": {
    "name": "ipython",
    "version": 3
   },
   "file_extension": ".py",
   "mimetype": "text/x-python",
   "name": "python",
   "nbconvert_exporter": "python",
   "pygments_lexer": "ipython3",
   "version": "3.6.9"
  }
 },
 "nbformat": 4,
 "nbformat_minor": 2
}
